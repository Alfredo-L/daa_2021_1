{
  "nbformat": 4,
  "nbformat_minor": 0,
  "metadata": {
    "colab": {
      "name": "Tarea8.ipynb",
      "provenance": [],
      "collapsed_sections": [],
      "authorship_tag": "ABX9TyOrXsGcKrTA86TCRK17duc3",
      "include_colab_link": true
    },
    "kernelspec": {
      "name": "python3",
      "display_name": "Python 3"
    }
  },
  "cells": [
    {
      "cell_type": "markdown",
      "metadata": {
        "id": "view-in-github",
        "colab_type": "text"
      },
      "source": [
        "<a href=\"https://colab.research.google.com/github/Alfredo-L/daa_2021_1/blob/master/Tarea8.ipynb\" target=\"_parent\"><img src=\"https://colab.research.google.com/assets/colab-badge.svg\" alt=\"Open In Colab\"/></a>"
      ]
    },
    {
      "cell_type": "code",
      "metadata": {
        "colab": {
          "base_uri": "https://localhost:8080/"
        },
        "id": "9kQca_lZCEo4",
        "outputId": "5a263f0c-7345-4128-bedd-65b84e954243"
      },
      "source": [
        "def BinRec(array, value, init, final):\r\n",
        "    medio = (init + final) // 2\r\n",
        "\r\n",
        "    if init >= final:\r\n",
        "        return \"El alumno no se encontró\"\r\n",
        "\r\n",
        "    elif array[medio].get('id') == value:\r\n",
        "        return medio\r\n",
        "\r\n",
        "    elif array[medio].get('id') < value:\r\n",
        "        return BinRec(array, value, medio+1, final)\r\n",
        "\r\n",
        "    else:\r\n",
        "        final = medio\r\n",
        "        return BinRec(array, value, init, final)\r\n",
        "\r\n",
        "alumno1={'id':2, 'nombre':\"Juan\" , 'carrera':\"ICO\", 'promedio':7.67}\r\n",
        "alumno2={'id':4, 'nombre':\"Rocio\" , 'carrera':\"ICI\", 'promedio':8.67}\r\n",
        "alumno3={'id':5, 'nombre':\"Diego\" , 'carrera':\"DER\", 'promedio':8.98}\r\n",
        "alumno4={'id':7, 'nombre':\"May\" , 'carrera':\"ICI\", 'promedio':9.87}\r\n",
        "alumno5={'id':9, 'nombre':\"Rob\" , 'carrera':\"IME\", 'promedio':10.00}\r\n",
        "alumno6={'id':10, 'nombre':\"Santi\" , 'carrera':\"ICO\", 'promedio':5.37}\r\n",
        "alumno7={'id':14, 'nombre':\"Moy\" , 'carrera':\"IME\", 'promedio':6.85}\r\n",
        "alumno8={'id':16, 'nombre':\"Diana\" , 'carrera':\"DER\", 'promedio':9.99}\r\n",
        "alumno9={'id':19, 'nombre':\"Zoila\" , 'carrera':\"ICO\", 'promedio':8.22}\r\n",
        "alumno10={'id':22, 'nombre':\"Armando\" , 'carrera':\"ICO\", 'promedio':7.32}\r\n",
        "\r\n",
        "bd = []\r\n",
        "bd.append(alumno1)\r\n",
        "bd.append(alumno2)\r\n",
        "bd.append(alumno3)\r\n",
        "bd.append(alumno4)\r\n",
        "bd.append(alumno5)\r\n",
        "bd.append(alumno6)\r\n",
        "bd.append(alumno7)\r\n",
        "bd.append(alumno8)\r\n",
        "bd.append(alumno9)\r\n",
        "bd.append(alumno10)\r\n",
        "\r\n",
        "#print(bd)\r\n",
        "\r\n",
        "val = int(input(\"Dame el id del alumno a buscar:\"))\r\n",
        "busq = BinRec(bd,val, 0, len(bd))\r\n",
        "print(f\"{bd[busq].get('nombre')} estudia la carrera de {bd[busq].get('carrera')} y tiene un promedio de {bd[busq].get('promedio')}\")"
      ],
      "execution_count": 3,
      "outputs": [
        {
          "output_type": "stream",
          "text": [
            "Dame el id del alumno a buscar:22\n",
            "Armando estudia la carrera de ICO y tiene un promedio de 7.32\n"
          ],
          "name": "stdout"
        }
      ]
    }
  ]
}