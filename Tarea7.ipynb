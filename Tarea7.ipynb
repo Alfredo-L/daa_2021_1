{
  "nbformat": 4,
  "nbformat_minor": 0,
  "metadata": {
    "colab": {
      "name": "Tarea7.ipynb",
      "provenance": [],
      "collapsed_sections": [],
      "authorship_tag": "ABX9TyNmHCGZmbe4fl72fgikqi57",
      "include_colab_link": true
    },
    "kernelspec": {
      "name": "python3",
      "display_name": "Python 3"
    }
  },
  "cells": [
    {
      "cell_type": "markdown",
      "metadata": {
        "id": "view-in-github",
        "colab_type": "text"
      },
      "source": [
        "<a href=\"https://colab.research.google.com/github/Alfredo-L/daa_2021_1/blob/master/Tarea7.ipynb\" target=\"_parent\"><img src=\"https://colab.research.google.com/assets/colab-badge.svg\" alt=\"Open In Colab\"/></a>"
      ]
    },
    {
      "cell_type": "code",
      "metadata": {
        "colab": {
          "base_uri": "https://localhost:8080/"
        },
        "id": "YH9Niy848UsM",
        "outputId": "85d12be3-8618-4c2f-bfce-27b60627aa7b"
      },
      "source": [
        "def suma(lista):\n",
        "    index = 0\n",
        "    if len(lista) == 1:\n",
        "        return lista[0]\n",
        "    else:\n",
        "        lista[index+1] = lista[index] + lista[index+1]\n",
        "        lista.pop(0)\n",
        "        print(lista)\n",
        "        if len(lista) != 0:\n",
        "            suma(lista)\n",
        "        return lista[index]\n",
        "\n",
        "\n",
        "lista = [54,74,12,5,0,45,106]\n",
        "su = suma(lista)\n",
        "print(f\"La suma es: {su}\")\n",
        "\n"
      ],
      "execution_count": 2,
      "outputs": [
        {
          "output_type": "stream",
          "text": [
            "[128, 12, 5, 0, 45, 106]\n",
            "[140, 5, 0, 45, 106]\n",
            "[145, 0, 45, 106]\n",
            "[145, 45, 106]\n",
            "[190, 106]\n",
            "[296]\n",
            "La suma es: 296\n"
          ],
          "name": "stdout"
        }
      ]
    },
    {
      "cell_type": "code",
      "metadata": {
        "colab": {
          "base_uri": "https://localhost:8080/"
        },
        "id": "RcbXIwVZ_ZmC",
        "outputId": "334ebbf5-b3ba-41bf-c183-69720d897aeb"
      },
      "source": [
        "#Algoritmo Alternativo del Problema 1 sin recursividad\n",
        "lista = [54,74,12,5,0,45,106]\n",
        "su = sum(lista)\n",
        "print(f\"La suma es: {su}\")"
      ],
      "execution_count": 3,
      "outputs": [
        {
          "output_type": "stream",
          "text": [
            "La suma es: 296\n"
          ],
          "name": "stdout"
        }
      ]
    },
    {
      "cell_type": "code",
      "metadata": {
        "colab": {
          "base_uri": "https://localhost:8080/"
        },
        "id": "2H1SiZvH8fJz",
        "outputId": "4d8ade6f-da4c-4fd4-b352-87011dbad993"
      },
      "source": [
        "def contador(x):\n",
        "  if x > 0:\n",
        "    print(x)\n",
        "    contador(x-1)\n",
        "\n",
        "val = int(input(\"Ingresa el valor del caontador: \"))\n",
        "contador(val)\n"
      ],
      "execution_count": 4,
      "outputs": [
        {
          "output_type": "stream",
          "text": [
            "Ingresa el valor del caontador: 10\n",
            "10\n",
            "9\n",
            "8\n",
            "7\n",
            "6\n",
            "5\n",
            "4\n",
            "3\n",
            "2\n",
            "1\n"
          ],
          "name": "stdout"
        }
      ]
    },
    {
      "cell_type": "code",
      "metadata": {
        "colab": {
          "base_uri": "https://localhost:8080/"
        },
        "id": "iJVp15STjOzu",
        "outputId": "fed3eee0-581a-43bb-e713-7ec30e3cee00"
      },
      "source": [
        "class Stack(object):\n",
        "    def __init__(self):\n",
        "        self.items=[]\n",
        "\n",
        "    def push(self, dato): \n",
        "        self.items.append(dato)\n",
        "\n",
        "    def pop(self): \n",
        "        if self.esta_vacia():\n",
        "            return None\n",
        "        else:\n",
        "            return self.items.pop()\n",
        "\n",
        "    def medio(self): \n",
        "      if len(self.items) % 2 == 0:\n",
        "        print(\"Los 2 digitos de en medio son:\")\n",
        "        return print(self.items[(len(self.items) // 2)-1] , self.items[(len(self.items) // 2)])\n",
        "      else:\n",
        "        return print(self.items[(len(self.items) // 2)])\n",
        "\n",
        "    def is_empty(self): \n",
        "        if len(self.items)==0:\n",
        "            return True\n",
        "        else:\n",
        "            return False\n",
        "        \n",
        "    def to_string(self): \n",
        "        print(self.items)\n",
        "\n",
        "\n",
        "\n",
        "p = Stack()\n",
        "p.push(65)\n",
        "p.push(8)\n",
        "p.push(1)\n",
        "p.push(3)\n",
        "p.push(655)\n",
        "p.push(0)\n",
        "p.push(23)\n",
        "p.push(48)\n",
        "p.push(20)\n",
        "#p.push(12)\n",
        "\n",
        "p.to_string()\n",
        "p.medio()\n"
      ],
      "execution_count": 12,
      "outputs": [
        {
          "output_type": "stream",
          "text": [
            "[65, 8, 1, 3, 655, 0, 23, 48, 20, 12]\n",
            "Los 2 digitos de en medio son:\n",
            "655 0\n"
          ],
          "name": "stdout"
        }
      ]
    }
  ]
}