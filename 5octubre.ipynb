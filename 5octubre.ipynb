{
  "nbformat": 4,
  "nbformat_minor": 0,
  "metadata": {
    "colab": {
      "name": "5octubre.ipynb",
      "provenance": [],
      "collapsed_sections": [],
      "authorship_tag": "ABX9TyMsk1lHtQk5B/ZXjwDdS27K",
      "include_colab_link": true
    },
    "kernelspec": {
      "name": "python3",
      "display_name": "Python 3"
    }
  },
  "cells": [
    {
      "cell_type": "markdown",
      "metadata": {
        "id": "view-in-github",
        "colab_type": "text"
      },
      "source": [
        "<a href=\"https://colab.research.google.com/github/Alfredo-L/daa_2021_1/blob/master/5octubre.ipynb\" target=\"_parent\"><img src=\"https://colab.research.google.com/assets/colab-badge.svg\" alt=\"Open In Colab\"/></a>"
      ]
    },
    {
      "cell_type": "markdown",
      "metadata": {
        "id": "822lEBv9_bbX"
      },
      "source": [
        "# Estructura de datos pilas (Stack)\n",
        "\n",
        "- Last In Fisrt Out\n",
        "- De tipo lineal\n",
        "- Se pueden obtener e ingresar datos desde el tope\n",
        "- push para agregar\n",
        "- pop para quitar\n",
        "\n",
        "## Operaciones de las pilas\n",
        "1. is_empty (regresa true o false)\n",
        "1. get_top (regresa el elemento en el tope SIN SACARLO)\n",
        "1. pop (saca el elemeneto del tope y lo regresa)\n",
        "1. push (mete un elemento en el tope)\n",
        "1. get_length (regresa el numero de elementos pila)\n"
      ]
    },
    {
      "cell_type": "code",
      "metadata": {
        "id": "hYnTY_EU_UX4"
      },
      "source": [
        "class Stack:\n",
        "  def __init__(self):\n",
        "      self.__data = []\n",
        "\n",
        "  def is_empty(self):\n",
        "      return len(self.__data)==0\n",
        "\n",
        "  def get_top(self):\n",
        "    return self.__data[-1]\n",
        "\n",
        "  def pop(self):\n",
        "      return self.__data.pop()\n",
        "    \n",
        "  def push(self,value):\n",
        "      self.__data.append(value)\n",
        "\n",
        "  def get_length(self):\n",
        "      return len(self.__data)\n",
        "\n",
        "  def to_string(self):\n",
        "    print(\"-----------------------------\")\n",
        "    for i in self.__data:\n",
        "        print(f\"{i}\")\n",
        "    print(\"-----------------------------\")\n",
        "\n",
        "    \n",
        "\n",
        "     "
      ],
      "execution_count": 13,
      "outputs": []
    },
    {
      "cell_type": "code",
      "metadata": {
        "id": "EFkacWuKFdTb",
        "outputId": "82cf7e9f-ddff-447f-d496-cd468db169cd",
        "colab": {
          "base_uri": "https://localhost:8080/",
          "height": 578
        }
      },
      "source": [
        "pila1 = Stack()\n",
        "pila1.push(10)\n",
        "pila1.push(20)\n",
        "pila1.push(1)\n",
        "pila1.push(393)\n",
        "pila1.push(103)\n",
        "pila1.to_string()\n",
        "\n",
        "sacado = pila1.pop()\n",
        "print(sacado)\n",
        "pila1.to_string()\n",
        "\n",
        "\n",
        "pila1.push(444)\n",
        "pila1.push(233)\n",
        "pila1.to_string()\n",
        "\n",
        "print(f\"El elemento en el tope es: {pila1.get_top()}\")\n",
        "pila1.to_string()\n",
        "print(f\"La pila tiene {pila1.get_length()} elementos\")\n",
        "print(f\"¿La pila está vacía: ? {pila1.is_empty()}\")\n"
      ],
      "execution_count": 14,
      "outputs": [
        {
          "output_type": "stream",
          "text": [
            "-----------------------------\n",
            "10\n",
            "20\n",
            "1\n",
            "393\n",
            "103\n",
            "-----------------------------\n",
            "103\n",
            "-----------------------------\n",
            "10\n",
            "20\n",
            "1\n",
            "393\n",
            "-----------------------------\n",
            "-----------------------------\n",
            "10\n",
            "20\n",
            "1\n",
            "393\n",
            "444\n",
            "233\n",
            "-----------------------------\n",
            "El elemento en el tope es: 233\n",
            "-----------------------------\n",
            "10\n",
            "20\n",
            "1\n",
            "393\n",
            "444\n",
            "233\n",
            "-----------------------------\n",
            "La pila tiene 6 elementos\n",
            "¿La pila está vacía: ? False\n"
          ],
          "name": "stdout"
        }
      ]
    }
  ]
}