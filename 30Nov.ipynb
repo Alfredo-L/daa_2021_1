{
  "nbformat": 4,
  "nbformat_minor": 0,
  "metadata": {
    "colab": {
      "name": "30Nov.ipynb",
      "provenance": [],
      "authorship_tag": "ABX9TyNzHe/UOFwayFkd61L9Fd11",
      "include_colab_link": true
    },
    "kernelspec": {
      "name": "python3",
      "display_name": "Python 3"
    }
  },
  "cells": [
    {
      "cell_type": "markdown",
      "metadata": {
        "id": "view-in-github",
        "colab_type": "text"
      },
      "source": [
        "<a href=\"https://colab.research.google.com/github/Alfredo-L/daa_2021_1/blob/master/30Nov.ipynb\" target=\"_parent\"><img src=\"https://colab.research.google.com/assets/colab-badge.svg\" alt=\"Open In Colab\"/></a>"
      ]
    },
    {
      "cell_type": "code",
      "metadata": {
        "id": "VnHJjzcL4D0w"
      },
      "source": [
        "A = \"AELASESLALSALSALSALSALSALASLSLSLSLSALALALALASALSALLSALAS\"\n",
        "P = \"LAS\"\n",
        "N = len(A)\n",
        "M = len(P)\n",
        "\n",
        "def fuerza_bruta( A , P ):\n",
        "    for i in range( N-M+1 ):\n",
        "        for j in range( M ):\n",
        "            if A[i+j] != P[j]:\n",
        "                break\n",
        "            else:\n",
        "                pass\n",
        "        if j+1 == M and A[ i + j] == P[j]:\n",
        "            print(\"Encontrado en la posicion:\",i)\n",
        "\n",
        "fuerza_bruta(A,P)\n",
        "#O(n)= ( (N-M) * M )"
      ],
      "execution_count": null,
      "outputs": []
    }
  ]
}