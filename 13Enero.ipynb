{
  "nbformat": 4,
  "nbformat_minor": 0,
  "metadata": {
    "colab": {
      "name": "13Enero.ipynb",
      "provenance": [],
      "collapsed_sections": [],
      "authorship_tag": "ABX9TyM/B0U1BaQIPrLyqNdvM7nw",
      "include_colab_link": true
    },
    "kernelspec": {
      "name": "python3",
      "display_name": "Python 3"
    }
  },
  "cells": [
    {
      "cell_type": "markdown",
      "metadata": {
        "id": "view-in-github",
        "colab_type": "text"
      },
      "source": [
        "<a href=\"https://colab.research.google.com/github/Alfredo-L/daa_2021_1/blob/master/13Enero.ipynb\" target=\"_parent\"><img src=\"https://colab.research.google.com/assets/colab-badge.svg\" alt=\"Open In Colab\"/></a>"
      ]
    },
    {
      "cell_type": "code",
      "metadata": {
        "id": "3vnafcsJ7gDT"
      },
      "source": [
        "class NodoArbol:\r\n",
        "  def __init__(self, dato, hijo_izq = None, hijo_der = None):\r\n",
        "    self.dato = dato\r\n",
        "    self.left = hijo_izq\r\n",
        "    self.right = hijo_der"
      ],
      "execution_count": 1,
      "outputs": []
    },
    {
      "cell_type": "markdown",
      "metadata": {
        "id": "IpNGZ-KTMuZZ"
      },
      "source": [
        "#Arbol Binario de Busqueda\r\n",
        "\r\n",
        "Los nodos a la izq son menores a la raiz y los nodos a la derecha son mayores a la raiz.\r\n",
        "Pueden ser recorridos en pre-orden, in-orden y post-orden."
      ]
    },
    {
      "cell_type": "code",
      "metadata": {
        "id": "ve0OYNXKTGeg"
      },
      "source": [
        "class BinarySearchTree:\r\n",
        "  def __init__(self):\r\n",
        "    self.__root = None\r\n",
        "  \r\n",
        "  def insert(self, value):\r\n",
        "    if self.__root == None:\r\n",
        "      self.__root = NodoArbol(value, None, None)\r\n",
        "    else:\r\n",
        "      #Preguntar si value es menor que root, de ser el caso\r\n",
        "      #Insertar a la izq. PERO puede ser el caso que el sub arbol\r\n",
        "      #Izq ya tenga muchos elementos\r\n",
        "      self.__insert_nodo__(self.__root, value)\r\n",
        "\r\n",
        "  def __insert_nodo__(self, nodo, value):\r\n",
        "    if nodo.dato == value:\r\n",
        "      pass\r\n",
        "    elif value < nodo.data: #true va a la izq\r\n",
        "      if nodo.left == None: #Si hay espacio en la izq, ahi va\r\n",
        "         nodo.left = NodoArbol(value, None, None) #Insertamos el nodo\r\n",
        "      else:\r\n",
        "        self.__insert_nodo__(nodo.left, value) #Buscar en sub arbol izq\r\n",
        "    else:\r\n",
        "      if nodo.right == None:\r\n",
        "        nodo.right = NodoArbol (value, None, None)\r\n",
        "      else:\r\n",
        "        self.__insert_nodo__ (nodo.right, vlue) #biscar en sub arbol de\r\n"
      ],
      "execution_count": null,
      "outputs": []
    },
    {
      "cell_type": "code",
      "metadata": {
        "id": "jn-nkzWqdLq5"
      },
      "source": [
        "bst = BinarySearchTree()\r\n",
        "bst.insert_nodo(50)\r\n",
        "bst.insert_nodo(30)\r\n",
        "bst.insert_nodo(20)\r\n",
        "#bst.search #Retornará true o false"
      ],
      "execution_count": null,
      "outputs": []
    }
  ]
}