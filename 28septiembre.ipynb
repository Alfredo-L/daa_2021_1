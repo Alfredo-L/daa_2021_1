{
  "nbformat": 4,
  "nbformat_minor": 0,
  "metadata": {
    "colab": {
      "name": "28septiembre.ipynb",
      "provenance": [],
      "toc_visible": true,
      "authorship_tag": "ABX9TyNn7OqmTWvDwso1d16kOn8Y",
      "include_colab_link": true
    },
    "kernelspec": {
      "name": "python3",
      "display_name": "Python 3"
    }
  },
  "cells": [
    {
      "cell_type": "markdown",
      "metadata": {
        "id": "view-in-github",
        "colab_type": "text"
      },
      "source": [
        "<a href=\"https://colab.research.google.com/github/Alfredo-L/daa_2021_1/blob/master/28septiembre.ipynb\" target=\"_parent\"><img src=\"https://colab.research.google.com/assets/colab-badge.svg\" alt=\"Open In Colab\"/></a>"
      ]
    },
    {
      "cell_type": "code",
      "metadata": {
        "id": "vRw7oh6SCeSZ"
      },
      "source": [
        ""
      ],
      "execution_count": null,
      "outputs": []
    },
    {
      "cell_type": "markdown",
      "metadata": {
        "id": "gUmIvwyrDZ41"
      },
      "source": [
        "# Sección 1:\n"
      ]
    },
    {
      "cell_type": "markdown",
      "metadata": {
        "id": "yb6fDxIlC6xL"
      },
      "source": [
        "En este archivo aprenderemos a programar en Python con la herramienta de Google Colab Research.\n",
        "También aprenderemos a guardar nuestros cambios en nuestro repositorio de Github.com"
      ]
    },
    {
      "cell_type": "markdown",
      "metadata": {
        "id": "YO5wxtJ_Du57"
      },
      "source": [
        ""
      ]
    },
    {
      "cell_type": "markdown",
      "metadata": {
        "id": "rVjwV7X-EBW5"
      },
      "source": [
        "## Código de Ejemplo\n",
        "**negritas**\n",
        "_italika_\n",
        "`Edad = 10\n",
        "print(edad)`"
      ]
    },
    {
      "cell_type": "code",
      "metadata": {
        "id": "HeFP2FMpGe0W",
        "outputId": "b66b95d4-6024-4245-e5a7-e144b4bae55a",
        "colab": {
          "base_uri": "https://localhost:8080/",
          "height": 34
        }
      },
      "source": [
        "frutas = []\n",
        "frutas.append('Manzana')\n",
        "frutas.append('Piña')\n",
        "frutas.append('Kiwi')\n",
        "print(frutas)"
      ],
      "execution_count": 2,
      "outputs": [
        {
          "output_type": "stream",
          "text": [
            "['Manzana', 'Piña', 'Kiwi']\n"
          ],
          "name": "stdout"
        }
      ]
    },
    {
      "cell_type": "code",
      "metadata": {
        "id": "ZpAwDclhHr_m"
      },
      "source": [
        "archivo = open('Prueba_daa.txt', 'wt')\n",
        "archivo.write('Hola mundo Jupyter')\n",
        "archivo.close()"
      ],
      "execution_count": 4,
      "outputs": []
    }
  ]
}