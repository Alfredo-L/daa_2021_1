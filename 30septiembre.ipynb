{
  "nbformat": 4,
  "nbformat_minor": 0,
  "metadata": {
    "colab": {
      "name": "30septiembre.ipynb",
      "provenance": [],
      "authorship_tag": "ABX9TyO9WVuA0IxIAEKuokATNRdR",
      "include_colab_link": true
    },
    "kernelspec": {
      "name": "python3",
      "display_name": "Python 3"
    }
  },
  "cells": [
    {
      "cell_type": "markdown",
      "metadata": {
        "id": "view-in-github",
        "colab_type": "text"
      },
      "source": [
        "<a href=\"https://colab.research.google.com/github/Alfredo-L/daa_2021_1/blob/master/30septiembre.ipynb\" target=\"_parent\"><img src=\"https://colab.research.google.com/assets/colab-badge.svg\" alt=\"Open In Colab\"/></a>"
      ]
    },
    {
      "cell_type": "markdown",
      "metadata": {
        "id": "z8fvv3pQQYO9"
      },
      "source": [
        "#Palindromo\n",
        "Es una palabra que se lee de igual forma de un sentido y de sentido inverso, ejemplo:\n",
        "\n",
        "- Sugus\n",
        "- Oso \n",
        "- Reconocer\n",
        "- 10101\n",
        "- 1001 \n",
        "\n",
        "### Planteamiento del problema \n",
        "Se desea encontrar todos los palíndromos que existen en la franja horaria de un día completo, tomando como horario inicial las 00:00 y como horario final las 23:59.\n",
        "\n",
        "El algoritmo debe mostrar todos los palíndromos existentes en ese rango, al final debe mostrar el conteo de total de palíndromos existentes. "
      ]
    },
    {
      "cell_type": "code",
      "metadata": {
        "id": "TZc36XgJQWWa",
        "outputId": "10ef0955-b046-4232-c0cc-055e8ceffc72",
        "colab": {
          "base_uri": "https://localhost:8080/",
          "height": 425
        }
      },
      "source": [
        "for hora in range (0, 24, 1):\n",
        "    for minutos in range (0, 60, 1):\n",
        "        if hora == minutos:\n",
        "            print(f\"{hora}:{minutos}\")"
      ],
      "execution_count": 1,
      "outputs": [
        {
          "output_type": "stream",
          "text": [
            "0:0\n",
            "1:1\n",
            "2:2\n",
            "3:3\n",
            "4:4\n",
            "5:5\n",
            "6:6\n",
            "7:7\n",
            "8:8\n",
            "9:9\n",
            "10:10\n",
            "11:11\n",
            "12:12\n",
            "13:13\n",
            "14:14\n",
            "15:15\n",
            "16:16\n",
            "17:17\n",
            "18:18\n",
            "19:19\n",
            "20:20\n",
            "21:21\n",
            "22:22\n",
            "23:23\n"
          ],
          "name": "stdout"
        }
      ]
    }
  ]
}