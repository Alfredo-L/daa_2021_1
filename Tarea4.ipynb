{
  "nbformat": 4,
  "nbformat_minor": 0,
  "metadata": {
    "colab": {
      "name": "Tarea4.ipynb",
      "provenance": [],
      "collapsed_sections": [],
      "authorship_tag": "ABX9TyMPMqdPUu1y7NWcpDoV+swb",
      "include_colab_link": true
    },
    "kernelspec": {
      "name": "python3",
      "display_name": "Python 3"
    }
  },
  "cells": [
    {
      "cell_type": "markdown",
      "metadata": {
        "id": "view-in-github",
        "colab_type": "text"
      },
      "source": [
        "<a href=\"https://colab.research.google.com/github/Alfredo-L/daa_2021_1/blob/master/Tarea4.ipynb\" target=\"_parent\"><img src=\"https://colab.research.google.com/assets/colab-badge.svg\" alt=\"Open In Colab\"/></a>"
      ]
    },
    {
      "cell_type": "code",
      "metadata": {
        "id": "gnDQW01CbiT0"
      },
      "source": [
        "def ejemplo4 (n):\n",
        "  count = 0\n",
        "  i = n\n",
        "  print(\"Nivel 1\")\n",
        "  while i >= 1:\n",
        "    print(\"Nivel 2\")\n",
        "    count += 1\n",
        "    i = i // 2\n",
        "  basura = 3 + 2\n",
        "  return count"
      ],
      "execution_count": null,
      "outputs": []
    },
    {
      "cell_type": "code",
      "metadata": {
        "id": "N70qSe1oevlF",
        "outputId": "06fa5b1d-62ed-45f3-ea2e-94a69bd05581",
        "colab": {
          "base_uri": "https://localhost:8080/",
          "height": 136
        }
      },
      "source": [
        "def main():\n",
        "  ej = ejemplo4(20)\n",
        "  print(ej)\n",
        "main()"
      ],
      "execution_count": 8,
      "outputs": [
        {
          "output_type": "stream",
          "text": [
            "Nivel 1\n",
            "Nivel 2\n",
            "Nivel 2\n",
            "Nivel 2\n",
            "Nivel 2\n",
            "Nivel 2\n",
            "5\n"
          ],
          "name": "stdout"
        }
      ]
    }
  ]
}