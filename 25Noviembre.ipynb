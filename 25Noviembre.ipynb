{
  "nbformat": 4,
  "nbformat_minor": 0,
  "metadata": {
    "colab": {
      "name": "25Noviembre.ipynb",
      "provenance": [],
      "collapsed_sections": [],
      "authorship_tag": "ABX9TyO2/rZYeBauRG3AEzPHSksC",
      "include_colab_link": true
    },
    "kernelspec": {
      "name": "python3",
      "display_name": "Python 3"
    }
  },
  "cells": [
    {
      "cell_type": "markdown",
      "metadata": {
        "id": "view-in-github",
        "colab_type": "text"
      },
      "source": [
        "<a href=\"https://colab.research.google.com/github/Alfredo-L/daa_2021_1/blob/master/25Noviembre.ipynb\" target=\"_parent\"><img src=\"https://colab.research.google.com/assets/colab-badge.svg\" alt=\"Open In Colab\"/></a>"
      ]
    },
    {
      "cell_type": "code",
      "metadata": {
        "colab": {
          "base_uri": "https://localhost:8080/"
        },
        "id": "ltJJH-wP55Et",
        "outputId": "97283cf0-d5cb-4036-b154-becb0c505738"
      },
      "source": [
        "frase = \"\"\"El lema que anima a la Universidad Nacional, Por mi raza hablará el espíritu, revela la vocación humanística con la que fue concebida. El autor de esta célebre frase, José Vasconcelos, asumió la rectoría en 1920, en una época en que las esperanzas de la Revolución aún estaban vivas,\n",
        " había una gran fe en la Patria y el ánimo redentor se extendía en el ambiente.\"\"\"\n",
        "\n",
        "frase = frase.strip().replace(\"\\n\",\"\").replace(\",\",\"\").replace(\".\",\"\").lower().split(\" \")\n",
        "print(frase)\n",
        "\n",
        "frecuencias = {}\n",
        "\n",
        "for index in range(len(frase)):\n",
        "  if frase[index] in frecuencias: #'el' in frecuencias\n",
        "    pass\n",
        "  else:\n",
        "    frecuencias[frase[index]] = 1 #frecuencias['el'] = 1 --> {'el':1}\n",
        "    for pivote in range(index+1, len(frase),1):\n",
        "      #print(frase[index] , \"Comparada contra: \", frase[pivote])\n",
        "      if frase[index] == frase[pivote]:\n",
        "        frecuencias[frase[index]] += 1\n",
        "print(frecuencias)"
      ],
      "execution_count": 5,
      "outputs": [
        {
          "output_type": "stream",
          "text": [
            "['el', 'lema', 'que', 'anima', 'a', 'la', 'universidad', 'nacional', 'por', 'mi', 'raza', 'hablará', 'el', 'espíritu', 'revela', 'la', 'vocación', 'humanística', 'con', 'la', 'que', 'fue', 'concebida', 'el', 'autor', 'de', 'esta', 'célebre', 'frase', 'josé', 'vasconcelos', 'asumió', 'la', 'rectoría', 'en', '1920', 'en', 'una', 'época', 'en', 'que', 'las', 'esperanzas', 'de', 'la', 'revolución', 'aún', 'estaban', 'vivas', 'había', 'una', 'gran', 'fe', 'en', 'la', 'patria', 'y', 'el', 'ánimo', 'redentor', 'se', 'extendía', 'en', 'el', 'ambiente']\n",
            "{'el': 5, 'lema': 1, 'que': 3, 'anima': 1, 'a': 1, 'la': 6, 'universidad': 1, 'nacional': 1, 'por': 1, 'mi': 1, 'raza': 1, 'hablará': 1, 'espíritu': 1, 'revela': 1, 'vocación': 1, 'humanística': 1, 'con': 1, 'fue': 1, 'concebida': 1, 'autor': 1, 'de': 2, 'esta': 1, 'célebre': 1, 'frase': 1, 'josé': 1, 'vasconcelos': 1, 'asumió': 1, 'rectoría': 1, 'en': 5, '1920': 1, 'una': 2, 'época': 1, 'las': 1, 'esperanzas': 1, 'revolución': 1, 'aún': 1, 'estaban': 1, 'vivas': 1, 'había': 1, 'gran': 1, 'fe': 1, 'patria': 1, 'y': 1, 'ánimo': 1, 'redentor': 1, 'se': 1, 'extendía': 1, 'ambiente': 1}\n"
          ],
          "name": "stdout"
        }
      ]
    },
    {
      "cell_type": "code",
      "metadata": {
        "colab": {
          "base_uri": "https://localhost:8080/"
        },
        "id": "3ceNsZLTFumr",
        "outputId": "5a7e8f6f-db7e-45f8-cbfe-a3d1e4abe2dc"
      },
      "source": [
        "frase = \"\"\"El lema que anima a la Universidad Nacional, Por mi raza hablará el espíritu, revela la vocación humanística con la que fue concebida. El autor de esta célebre frase, José Vasconcelos, asumió la rectoría en 1920, en una época en que las esperanzas de la Revolución aún estaban vivas,\n",
        " había una gran fe en la Patria y el ánimo redentor se extendía en el ambiente.\"\"\"\n",
        "frase = frase.strip().replace(\"\\n\",\"\").replace(\",\",\"\").replace(\".\",\"\").lower().split(\" \")\n",
        "print(frase)\n",
        "frecuencias = {}\n",
        "for index in range(len(frase)):\n",
        "  print(hash(frase[index]))\n",
        "  if frase[index] in frecuencias:\n",
        "    frecuencias[frase[index]] += 1\n",
        "  else:\n",
        "    frecuencias[frase[index]] = 1\n",
        "\n",
        "print(frecuencias)"
      ],
      "execution_count": 7,
      "outputs": [
        {
          "output_type": "stream",
          "text": [
            "['el', 'lema', 'que', 'anima', 'a', 'la', 'universidad', 'nacional', 'por', 'mi', 'raza', 'hablará', 'el', 'espíritu', 'revela', 'la', 'vocación', 'humanística', 'con', 'la', 'que', 'fue', 'concebida', 'el', 'autor', 'de', 'esta', 'célebre', 'frase', 'josé', 'vasconcelos', 'asumió', 'la', 'rectoría', 'en', '1920', 'en', 'una', 'época', 'en', 'que', 'las', 'esperanzas', 'de', 'la', 'revolución', 'aún', 'estaban', 'vivas', 'había', 'una', 'gran', 'fe', 'en', 'la', 'patria', 'y', 'el', 'ánimo', 'redentor', 'se', 'extendía', 'en', 'el', 'ambiente']\n",
            "-1970819788613997001\n",
            "-1967759292499751946\n",
            "-1438496742134159978\n",
            "8057616009036808602\n",
            "-2236654301407513248\n",
            "-1888275961935277170\n",
            "8672060163676501904\n",
            "-7532954030669116677\n",
            "-7256856324546832491\n",
            "-1803515274525914735\n",
            "-8983328342084834641\n",
            "9069103791174596762\n",
            "-1970819788613997001\n",
            "4241889714185101723\n",
            "-6838405779563106649\n",
            "-1888275961935277170\n",
            "-4395353459401389893\n",
            "-91092263950216843\n",
            "8994940116079980580\n",
            "-1888275961935277170\n",
            "-1438496742134159978\n",
            "-4692203729582310345\n",
            "-7573833864304402382\n",
            "-1970819788613997001\n",
            "5268563988576633344\n",
            "4783852496003191930\n",
            "-2485373783881468778\n",
            "-7694570102085664127\n",
            "-1809500345070521525\n",
            "8942831701268134905\n",
            "-1942504152534194669\n",
            "-146776554418989964\n",
            "-1888275961935277170\n",
            "4436529361031396146\n",
            "-2280885569594063704\n",
            "-4064076194618246456\n",
            "-2280885569594063704\n",
            "822731101169910080\n",
            "-8224759707311960963\n",
            "-2280885569594063704\n",
            "-1438496742134159978\n",
            "2432152780504948728\n",
            "-3923815460477079563\n",
            "4783852496003191930\n",
            "-1888275961935277170\n",
            "3800010320517494292\n",
            "-8893553185984615940\n",
            "5528115344437797725\n",
            "-8621377523946047156\n",
            "-417830166337795810\n",
            "822731101169910080\n",
            "-5956292101627439302\n",
            "3150833189570064104\n",
            "-2280885569594063704\n",
            "-1888275961935277170\n",
            "-6704477763257329178\n",
            "-5393446061809194325\n",
            "-1970819788613997001\n",
            "-6586568228843813546\n",
            "-58227517623242321\n",
            "-3143818182547015082\n",
            "8329698919926242744\n",
            "-2280885569594063704\n",
            "-1970819788613997001\n",
            "244858280227767219\n",
            "{'el': 5, 'lema': 1, 'que': 3, 'anima': 1, 'a': 1, 'la': 6, 'universidad': 1, 'nacional': 1, 'por': 1, 'mi': 1, 'raza': 1, 'hablará': 1, 'espíritu': 1, 'revela': 1, 'vocación': 1, 'humanística': 1, 'con': 1, 'fue': 1, 'concebida': 1, 'autor': 1, 'de': 2, 'esta': 1, 'célebre': 1, 'frase': 1, 'josé': 1, 'vasconcelos': 1, 'asumió': 1, 'rectoría': 1, 'en': 5, '1920': 1, 'una': 2, 'época': 1, 'las': 1, 'esperanzas': 1, 'revolución': 1, 'aún': 1, 'estaban': 1, 'vivas': 1, 'había': 1, 'gran': 1, 'fe': 1, 'patria': 1, 'y': 1, 'ánimo': 1, 'redentor': 1, 'se': 1, 'extendía': 1, 'ambiente': 1}\n"
          ],
          "name": "stdout"
        }
      ]
    }
  ]
}