{
  "nbformat": 4,
  "nbformat_minor": 0,
  "metadata": {
    "colab": {
      "name": "7Dic.ipynb",
      "provenance": [],
      "authorship_tag": "ABX9TyOAkexCE3phXgKhyTqk2FS2",
      "include_colab_link": true
    },
    "kernelspec": {
      "name": "python3",
      "display_name": "Python 3"
    }
  },
  "cells": [
    {
      "cell_type": "markdown",
      "metadata": {
        "id": "view-in-github",
        "colab_type": "text"
      },
      "source": [
        "<a href=\"https://colab.research.google.com/github/Alfredo-L/daa_2021_1/blob/master/7Dic.ipynb\" target=\"_parent\"><img src=\"https://colab.research.google.com/assets/colab-badge.svg\" alt=\"Open In Colab\"/></a>"
      ]
    },
    {
      "cell_type": "code",
      "metadata": {
        "colab": {
          "base_uri": "https://localhost:8080/"
        },
        "id": "ueAmluYiuWOU",
        "outputId": "0637deca-f503-4e89-d515-8e59d83bb26d"
      },
      "source": [
        "def fibonacci(n):\n",
        "  print(\"Llamada: \", n)\n",
        "  if n == 1 or n == 0:\n",
        "    return n\n",
        "\n",
        "  else: \n",
        "    return (fibonacci(n-1) + fibonacci(n-2))\n",
        "  \n",
        "print(fibonacci(8))"
      ],
      "execution_count": 1,
      "outputs": [
        {
          "output_type": "stream",
          "text": [
            "Llamada:  8\n",
            "Llamada:  7\n",
            "Llamada:  6\n",
            "Llamada:  5\n",
            "Llamada:  4\n",
            "Llamada:  3\n",
            "Llamada:  2\n",
            "Llamada:  1\n",
            "Llamada:  0\n",
            "Llamada:  1\n",
            "Llamada:  2\n",
            "Llamada:  1\n",
            "Llamada:  0\n",
            "Llamada:  3\n",
            "Llamada:  2\n",
            "Llamada:  1\n",
            "Llamada:  0\n",
            "Llamada:  1\n",
            "Llamada:  4\n",
            "Llamada:  3\n",
            "Llamada:  2\n",
            "Llamada:  1\n",
            "Llamada:  0\n",
            "Llamada:  1\n",
            "Llamada:  2\n",
            "Llamada:  1\n",
            "Llamada:  0\n",
            "Llamada:  5\n",
            "Llamada:  4\n",
            "Llamada:  3\n",
            "Llamada:  2\n",
            "Llamada:  1\n",
            "Llamada:  0\n",
            "Llamada:  1\n",
            "Llamada:  2\n",
            "Llamada:  1\n",
            "Llamada:  0\n",
            "Llamada:  3\n",
            "Llamada:  2\n",
            "Llamada:  1\n",
            "Llamada:  0\n",
            "Llamada:  1\n",
            "Llamada:  6\n",
            "Llamada:  5\n",
            "Llamada:  4\n",
            "Llamada:  3\n",
            "Llamada:  2\n",
            "Llamada:  1\n",
            "Llamada:  0\n",
            "Llamada:  1\n",
            "Llamada:  2\n",
            "Llamada:  1\n",
            "Llamada:  0\n",
            "Llamada:  3\n",
            "Llamada:  2\n",
            "Llamada:  1\n",
            "Llamada:  0\n",
            "Llamada:  1\n",
            "Llamada:  4\n",
            "Llamada:  3\n",
            "Llamada:  2\n",
            "Llamada:  1\n",
            "Llamada:  0\n",
            "Llamada:  1\n",
            "Llamada:  2\n",
            "Llamada:  1\n",
            "Llamada:  0\n",
            "21\n"
          ],
          "name": "stdout"
        }
      ]
    }
  ]
}