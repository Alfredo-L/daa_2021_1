{
  "nbformat": 4,
  "nbformat_minor": 0,
  "metadata": {
    "colab": {
      "name": "2octubre.ipynb",
      "provenance": [],
      "toc_visible": true,
      "authorship_tag": "ABX9TyPdj5meiYaFbuRYQFrlaXI1",
      "include_colab_link": true
    },
    "kernelspec": {
      "name": "python3",
      "display_name": "Python 3"
    }
  },
  "cells": [
    {
      "cell_type": "markdown",
      "metadata": {
        "id": "view-in-github",
        "colab_type": "text"
      },
      "source": [
        "<a href=\"https://colab.research.google.com/github/Alfredo-L/daa_2021_1/blob/master/2octubre.ipynb\" target=\"_parent\"><img src=\"https://colab.research.google.com/assets/colab-badge.svg\" alt=\"Open In Colab\"/></a>"
      ]
    },
    {
      "cell_type": "markdown",
      "metadata": {
        "id": "arhxiueniHEQ"
      },
      "source": [
        "## Meteorología en México\n",
        "En Sistema meteorológico nacional lleva el registro de la lluvias desde el año 1985 y lo pone a disposición de la población por medio de la pagina datos.gob.mx.\n",
        "\n",
        "En la siguiente liga se encuentran 2  archivos separados por comas CSV correspondientes a los registros de lluvias\n",
        "mensuales y anuales de los años 2017 y 2018. En los columnas se encuentran 13,  correspondientes al promedio mensual y el promedio anual.\n",
        "En los renglones se encuentran 33, correspondientes a cada uno de los 32 estados y a nivel nacional.\n",
        "\n",
        "https://drive.google.com/file/d/1lamkxgq2AsXRu81Y4JTNXLVld4og7nxt/view?usp=sharing\n",
        "\n",
        "\n",
        "## Planteamiento del problema\n",
        "Diseñar un algoritmo y programarlo para que:\n",
        "1. Solicite por teclado el año, el estado y el mes, en base a esa información:\n",
        "- muestre en pantalla el promedio de ese mes en ese estado en el año seleccionado.\n",
        "- muestre en pantalla el promedio anual del  estado seleccionado.\n",
        "- muestre la suma de los 12 meses de ese estado en el año seleccionado.\n",
        "\n",
        "2. Busque el mes que mas llovió en todos los estados durante esos dos años. Imprimir año, estado y mes.\n",
        "3. Busque el mes que menos llovió en los dos. Imprimir año, estado y mes."
      ]
    },
    {
      "cell_type": "code",
      "metadata": {
        "id": "N6bnPJBxh8qh"
      },
      "source": [
        "#ADTS\n",
        "#Función lectura\n",
        "class Array3D:\n",
        "    def __init__(self,depth,rows,cols):\n",
        "        \n",
        "        self.__rows = rows\n",
        "        self.__cols = cols\n",
        "        self.__depth = depth\n",
        "        self.__arreglo = [[[0 for j in range(cols)]for k in range(rows)]for l in range(depth)]\n",
        "       \n",
        "    def get_num_depth(self):\n",
        "        return self.__depth\n",
        "\n",
        "    def get_num_rows(self):\n",
        "        return self.__rows\n",
        "    \n",
        "    def get_num_cols(self):\n",
        "        return self.__cols\n",
        "    \n",
        "    def set_item(self,depth,rows,cols,value):\n",
        "        self.__arreglo[depth][rows][cols] = value\n",
        "        \n",
        "    def get_item(self,depth,rows,cols):\n",
        "        return self.__arreglo[depth][rows][cols]\n",
        "\n",
        "    def clearing(self,value):\n",
        "        for i in range(self.__depth):\n",
        "            for j in range(self.__rows):\n",
        "                for k in range(slef.__cols):\n",
        "                    self.__arreglo[i][j][k] = value\n",
        "    \n",
        "    def to_string(self):\n",
        "        #print(f\"el tamaño del arreglo es de {self.__arreglo}\")\n",
        "        capa=0\n",
        "        for layer in self.__arreglo:\n",
        "            print(f\"-------capa{capa+1}-----\")\n",
        "            for ren in layer:\n",
        "                print(ren)\n",
        "            capa +=1\n",
        "\n",
        "\n",
        "#Función 1\n",
        "#Función 2\n",
        "#Función 3\n"
      ],
      "execution_count": null,
      "outputs": []
    },
    {
      "cell_type": "code",
      "metadata": {
        "id": "RAcOuQC_0yEq"
      },
      "source": [
        "import xlrd #pip install xlrd\n",
        "#from ADTS import*\n",
        "\n",
        "def main():\n",
        "    a3 = Array3D(2,33,14)\n",
        "    for anio in range(2017,2018,1):\n",
        "        ruta = './Registro_lluvias/'+str(anio)+'Precip.xlsx'\n",
        "\n",
        "        archivo = xlrd.open_workbook(filename = ruta)\n",
        "        hoja = archivo.sheet_by_index(0)\n",
        "    \n",
        "\n",
        "        for r in range(1,33,1):\n",
        "            for c in range(0,14,1):\n",
        "                a3.set_item(anio,r-1,c,hoja.cell_value(r,c))\n",
        "\n",
        "    a = int(input(\"Año(2017-2018):\"))\n",
        "    e = int(input(\"Estado(1-32):\"))\n",
        "    m = int(input(\"Mes(1-12):\"))\n",
        "\n",
        "    print(f\"{a3.get_item(a,e,m)}\")            \n",
        "\n",
        "\"\"\"Profe, en anio no me sale el set item y por lo tanto no me arroja el dato, no sé\n",
        "cual es el número que lleva y no me alcanza el tiempo\"\"\"\n",
        "\n",
        "main()\n"
      ],
      "execution_count": null,
      "outputs": []
    }
  ]
}