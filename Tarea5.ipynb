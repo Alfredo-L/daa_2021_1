{
  "nbformat": 4,
  "nbformat_minor": 0,
  "metadata": {
    "colab": {
      "name": "Tarea5.ipynb",
      "provenance": [],
      "collapsed_sections": [],
      "authorship_tag": "ABX9TyOtS3ZOt+I5j9r2hyKH1jtL",
      "include_colab_link": true
    },
    "kernelspec": {
      "name": "python3",
      "display_name": "Python 3"
    }
  },
  "cells": [
    {
      "cell_type": "markdown",
      "metadata": {
        "id": "view-in-github",
        "colab_type": "text"
      },
      "source": [
        "<a href=\"https://colab.research.google.com/github/Alfredo-L/daa_2021_1/blob/master/Tarea5.ipynb\" target=\"_parent\"><img src=\"https://colab.research.google.com/assets/colab-badge.svg\" alt=\"Open In Colab\"/></a>"
      ]
    },
    {
      "cell_type": "code",
      "metadata": {
        "id": "AJlv_YmANMzT",
        "outputId": "42b26c02-34e2-4556-e8b6-9063362ca7b7",
        "colab": {
          "base_uri": "https://localhost:8080/",
          "height": 357
        }
      },
      "source": [
        "from time import time\n",
        "\n",
        "def ejemplo1( n ):\n",
        "    start_time = time()\n",
        "    c = n + 1\n",
        "    d = c * n\n",
        "    e = n * n\n",
        "    total = c + e - d\n",
        "    print(f\"total={ total }\")\n",
        "    elapsed_time = time() - start_time\n",
        "    print(\"Tiempo transcurrido: %0.10f segundos.\" % elapsed_time)\n",
        "for entrada in range (100,1100,100):\n",
        "  ejemplo1( entrada )"
      ],
      "execution_count": 2,
      "outputs": [
        {
          "output_type": "stream",
          "text": [
            "total=1\n",
            "Tiempo transcurrido: 0.0000855923 segundos.\n",
            "total=1\n",
            "Tiempo transcurrido: 0.0000295639 segundos.\n",
            "total=1\n",
            "Tiempo transcurrido: 0.0000267029 segundos.\n",
            "total=1\n",
            "Tiempo transcurrido: 0.0000262260 segundos.\n",
            "total=1\n",
            "Tiempo transcurrido: 0.0000259876 segundos.\n",
            "total=1\n",
            "Tiempo transcurrido: 0.0000259876 segundos.\n",
            "total=1\n",
            "Tiempo transcurrido: 0.0002248287 segundos.\n",
            "total=1\n",
            "Tiempo transcurrido: 0.0000245571 segundos.\n",
            "total=1\n",
            "Tiempo transcurrido: 0.0000243187 segundos.\n",
            "total=1\n",
            "Tiempo transcurrido: 0.0000274181 segundos.\n"
          ],
          "name": "stdout"
        }
      ]
    },
    {
      "cell_type": "code",
      "metadata": {
        "id": "H-sRzOalVf1y",
        "outputId": "b5f729e7-7a6d-493a-8f24-7663778081de",
        "colab": {
          "base_uri": "https://localhost:8080/",
          "height": 187
        }
      },
      "source": [
        "from time import time\n",
        "\n",
        "def ejemplo2( n ):\n",
        "    start_time = time()\n",
        "    contador = 0\n",
        "    for i in range( n ) :\n",
        "        for j in range( n ) :\n",
        "            contador += 1\n",
        "    elapsed_time = time() - start_time\n",
        "    print(\"Tiempo transcurrido: %0.10f segundos.\" % elapsed_time)\n",
        "    return contador\n",
        "for entrada in range (100,1100,100):\n",
        "  ejemplo2( entrada )"
      ],
      "execution_count": 17,
      "outputs": [
        {
          "output_type": "stream",
          "text": [
            "Tiempo transcurrido: 0.0014810562 segundos.\n",
            "Tiempo transcurrido: 0.0029463768 segundos.\n",
            "Tiempo transcurrido: 0.0069246292 segundos.\n",
            "Tiempo transcurrido: 0.0087256432 segundos.\n",
            "Tiempo transcurrido: 0.0164241791 segundos.\n",
            "Tiempo transcurrido: 0.0223841667 segundos.\n",
            "Tiempo transcurrido: 0.0256490707 segundos.\n",
            "Tiempo transcurrido: 0.0339608192 segundos.\n",
            "Tiempo transcurrido: 0.0436844826 segundos.\n",
            "Tiempo transcurrido: 0.0553190708 segundos.\n"
          ],
          "name": "stdout"
        }
      ]
    },
    {
      "cell_type": "code",
      "metadata": {
        "id": "Kx8DyTT-W-aT",
        "outputId": "0e8c03a7-0053-4525-d7d3-6ed8f972767b",
        "colab": {
          "base_uri": "https://localhost:8080/",
          "height": 187
        }
      },
      "source": [
        "from time import time\n",
        "\n",
        "def ejemplo3( n ): # n=4\n",
        "    start_time = time()\n",
        "    x = n * 2 # x = 8\n",
        "    y = 0   # y = 0\n",
        "    for m in range( 100 ): #3\n",
        "        y = x - n   # y = 4\n",
        "    elapsed_time = time() - start_time\n",
        "    print(\"Tiempo transcurrido: %0.10f segundos.\" % elapsed_time)\n",
        "    return y\n",
        "    \n",
        "for entrada in range (100,1100,100):\n",
        "  ejemplo3( entrada )"
      ],
      "execution_count": 18,
      "outputs": [
        {
          "output_type": "stream",
          "text": [
            "Tiempo transcurrido: 0.0000078678 segundos.\n",
            "Tiempo transcurrido: 0.0000076294 segundos.\n",
            "Tiempo transcurrido: 0.0000092983 segundos.\n",
            "Tiempo transcurrido: 0.0000088215 segundos.\n",
            "Tiempo transcurrido: 0.0000078678 segundos.\n",
            "Tiempo transcurrido: 0.0000073910 segundos.\n",
            "Tiempo transcurrido: 0.0000076294 segundos.\n",
            "Tiempo transcurrido: 0.0000078678 segundos.\n",
            "Tiempo transcurrido: 0.0000078678 segundos.\n",
            "Tiempo transcurrido: 0.0000078678 segundos.\n"
          ],
          "name": "stdout"
        }
      ]
    },
    {
      "cell_type": "code",
      "metadata": {
        "id": "C1xTVbXRj7Vi",
        "outputId": "56ffc36e-1f9a-4d3f-a275-a63fada0943f",
        "colab": {
          "base_uri": "https://localhost:8080/",
          "height": 187
        }
      },
      "source": [
        "from time import time\n",
        "\n",
        "def ejemplo4( n ):\n",
        "    start_time = time()\n",
        "    x = 3 * 3.1416 + n\n",
        "    y = x + 3 * 3 - n\n",
        "    z = x + y\n",
        "    elapsed_time = time() - start_time\n",
        "    print(\"Tiempo transcurrido: %0.10f segundos.\" % elapsed_time)\n",
        "    return z\n",
        "\n",
        "for entrada in range (100,1100,100):\n",
        "  ejemplo4( entrada )"
      ],
      "execution_count": 21,
      "outputs": [
        {
          "output_type": "stream",
          "text": [
            "Tiempo transcurrido: 0.0000011921 segundos.\n",
            "Tiempo transcurrido: 0.0000011921 segundos.\n",
            "Tiempo transcurrido: 0.0000009537 segundos.\n",
            "Tiempo transcurrido: 0.0000004768 segundos.\n",
            "Tiempo transcurrido: 0.0000002384 segundos.\n",
            "Tiempo transcurrido: 0.0000002384 segundos.\n",
            "Tiempo transcurrido: 0.0000004768 segundos.\n",
            "Tiempo transcurrido: 0.0000002384 segundos.\n",
            "Tiempo transcurrido: 0.0000002384 segundos.\n",
            "Tiempo transcurrido: 0.0000004768 segundos.\n"
          ],
          "name": "stdout"
        }
      ]
    },
    {
      "cell_type": "code",
      "metadata": {
        "id": "UB1c8Xd9j7uy",
        "outputId": "5ded4b82-42e0-4cb3-fd9f-fa6409f30cb6",
        "colab": {
          "base_uri": "https://localhost:8080/",
          "height": 187
        }
      },
      "source": [
        "from time import time\n",
        "\n",
        "def ejemplo5( x ):\n",
        "    start_time = time()\n",
        "    n = 10\n",
        "    for j in range( 0 , x , 1 ):\n",
        "        n = j + n\n",
        "    elapsed_time = time() - start_time\n",
        "    print(\"Tiempo transcurrido: %0.10f segundos.\" % elapsed_time)\n",
        "    return n\n",
        "\n",
        "for entrada in range (100,1100,100):\n",
        "  ejemplo5( entrada )"
      ],
      "execution_count": 22,
      "outputs": [
        {
          "output_type": "stream",
          "text": [
            "Tiempo transcurrido: 0.0000102520 segundos.\n",
            "Tiempo transcurrido: 0.0000174046 segundos.\n",
            "Tiempo transcurrido: 0.0000243187 segundos.\n",
            "Tiempo transcurrido: 0.0000290871 segundos.\n",
            "Tiempo transcurrido: 0.0000629425 segundos.\n",
            "Tiempo transcurrido: 0.0000488758 segundos.\n",
            "Tiempo transcurrido: 0.0000574589 segundos.\n",
            "Tiempo transcurrido: 0.0000762939 segundos.\n",
            "Tiempo transcurrido: 0.0000805855 segundos.\n",
            "Tiempo transcurrido: 0.0000677109 segundos.\n"
          ],
          "name": "stdout"
        }
      ]
    },
    {
      "cell_type": "code",
      "metadata": {
        "id": "_jLG0-RamfkZ",
        "outputId": "862572a5-7ea5-4e27-f225-1b3a16eafa51",
        "colab": {
          "base_uri": "https://localhost:8080/",
          "height": 187
        }
      },
      "source": [
        "from time import time\n",
        "\n",
        "def ejemplo6( n ):\n",
        "    start_time = time()\n",
        "    data=[[[1 for x in range(n)] for x in range(n)] \n",
        "          for x in range(n)]\n",
        "    suma = 0\n",
        "    for d in range(n):\n",
        "        for r in range(n):\n",
        "            for c in range(n):\n",
        "                suma += data[d][r][c]\n",
        "    elapsed_time = time() - start_time\n",
        "    print(\"Tiempo transcurrido: %0.10f segundos.\" % elapsed_time)\n",
        "    return suma\n",
        "\n",
        "for entrada in range (100,1100,100):\n",
        "  ejemplo6( entrada )"
      ],
      "execution_count": 24,
      "outputs": [
        {
          "output_type": "stream",
          "text": [
            "Tiempo transcurrido: 0.1425912380 segundos.\n",
            "Tiempo transcurrido: 1.0854980946 segundos.\n",
            "Tiempo transcurrido: 3.4122464657 segundos.\n",
            "Tiempo transcurrido: 8.9431798458 segundos.\n",
            "Tiempo transcurrido: 22.4040737152 segundos.\n",
            "Tiempo transcurrido: 32.9182653427 segundos.\n",
            "Tiempo transcurrido: 51.5056185722 segundos.\n",
            "Tiempo transcurrido: 79.6436183453 segundos.\n",
            "Tiempo transcurrido: 111.1267476082 segundos.\n",
            "Tiempo transcurrido: 153.0800769329 segundos.\n"
          ],
          "name": "stdout"
        }
      ]
    }
  ]
}